{
 "cells": [
  {
   "cell_type": "markdown",
   "metadata": {},
   "source": [
    "# MicroTask 1"
   ]
  },
  {
   "cell_type": "markdown",
   "metadata": {},
   "source": [
    "### Produce a listing of the number of new committers per month, and the number of commits for each of them, as a table and as a CSV file. Use the GrimoireLab enriched index for git."
   ]
  },
  {
   "cell_type": "code",
   "execution_count": 49,
   "metadata": {},
   "outputs": [],
   "source": [
    "#Importing Libraries \n",
    "from datetime import datetime\n",
    "import elasticsearch\n",
    "import elasticsearch_dsl\n",
    "from pprint import pprint\n",
    "import pandas as pd\n",
    "import numpy as np\n",
    "import subprocess\n",
    "import matplotlib.pyplot as plt\n",
    "from pandas.tools.plotting import table\n",
    "from perceval.backends.core.git import Git\n"
   ]
  },
  {
   "cell_type": "code",
   "execution_count": 50,
   "metadata": {},
   "outputs": [],
   "source": [
    "# Url for the git repo to analyze\n",
    "repo_url = 'http://github.com/grimoirelab/perceval.git'\n",
    "\n",
    "# Directory for letting Perceval clone the git repo\n",
    "repo_dir = '/tmp/perceval.git'\n",
    "\n",
    "# ElasticSearch instance (url)\n",
    "# Assuming your localhost instance is ON , if not initialize it\n",
    "es = elasticsearch.Elasticsearch('http://localhost:9200/',  verify_certs=False)\n",
    "\n",
    "enrich_index_name = 'git'\n"
   ]
  },
  {
   "cell_type": "markdown",
   "metadata": {},
   "source": [
    "### Deleting any previous instance of the index ( if they exist )"
   ]
  },
  {
   "cell_type": "code",
   "execution_count": 9,
   "metadata": {},
   "outputs": [
    {
     "name": "stderr",
     "output_type": "stream",
     "text": [
      "PUT http://localhost:9200/git [status:400 request:0.004s]\n"
     ]
    },
    {
     "name": "stdout",
     "output_type": "stream",
     "text": [
      "deleting\n"
     ]
    }
   ],
   "source": [
    "# Create the 'git' index in ElasticSearch\n",
    "try:\n",
    "    es.indices.create(enrich_index_name)\n",
    "except elasticsearch.exceptions.RequestError:\n",
    "    print(\"deleting\")\n",
    "    #This will delete the already existing \"enrich_index_name\" and will create a new one\n",
    "    es.indices.delete(enrich_index_name)\n",
    "    es.indices.create(enrich_index_name)\n",
    "\n",
    "repo = Git(uri=repo_url, gitpath=repo_dir)\n",
    "for commit in repo.fetch():\n",
    "    # Upload the whole body to ElasticSearch .\n",
    "    es.index(index='git', doc_type='summary', body=commit)\n"
   ]
  },
  {
   "cell_type": "code",
   "execution_count": 56,
   "metadata": {},
   "outputs": [
    {
     "name": "stdout",
     "output_type": "stream",
     "text": [
      "Total Number of commits :- 1136\n"
     ]
    }
   ],
   "source": [
    "response = es.search(index=enrich_index_name)\n",
    "Number_of_commits = response['hits']['total']\n",
    "print(\"Total Number of commits :- %s\" %(Number_of_commits))\n",
    "response = es.search( index=enrich_index_name , body={\"size\":Number_of_commits} )\n",
    "\n",
    "author=[] #declaring a list\n",
    "output = set() # set funtion in python chooses unique strings\n"
   ]
  },
  {
   "cell_type": "code",
   "execution_count": 57,
   "metadata": {},
   "outputs": [],
   "source": [
    "for i in response['hits']['hits']:\n",
    "    output.add(i['_source']['data']['Author']) #will add only unique strings to the list\n",
    "\n",
    "for i in output:\n",
    "    dictionary = {'Author_Name' : i , 'First_Commit_Date' : 'NA' , 'Total_Number_of_commits' : 0}\n",
    "    author.append(dictionary)\n",
    "\n",
    "# author"
   ]
  },
  {
   "cell_type": "code",
   "execution_count": null,
   "metadata": {},
   "outputs": [],
   "source": []
  },
  {
   "cell_type": "code",
   "execution_count": 58,
   "metadata": {},
   "outputs": [
    {
     "data": {
      "text/plain": [
       "[{'Author_Name': 'Santiago Dueñas <sduenas@bitergia.com>',\n",
       "  'First_Commit_Date': '2016-02',\n",
       "  'Total_Number_of_commits': 731},\n",
       " {'Author_Name': 'Luis Cañas Díaz <lcanas@bitergia.com>',\n",
       "  'First_Commit_Date': '2016-09',\n",
       "  'Total_Number_of_commits': 1},\n",
       " {'Author_Name': 'Miguel Ángel Fernández <mafesan@bitergia.com>',\n",
       "  'First_Commit_Date': '2018-02',\n",
       "  'Total_Number_of_commits': 3},\n",
       " {'Author_Name': 'David Esler <drumandstrum@gmail.com>',\n",
       "  'First_Commit_Date': '2017-10',\n",
       "  'Total_Number_of_commits': 1},\n",
       " {'Author_Name': 'Alberto Martín <alberto.martin@bitergia.com>',\n",
       "  'First_Commit_Date': '2016-02',\n",
       "  'Total_Number_of_commits': 51},\n",
       " {'Author_Name': 'valerio cosentino <valcos@bitergia.com>',\n",
       "  'First_Commit_Date': '2017-09',\n",
       "  'Total_Number_of_commits': 6},\n",
       " {'Author_Name': 'David Pose Fernández <dpose@bitergia.com>',\n",
       "  'First_Commit_Date': '2017-11',\n",
       "  'Total_Number_of_commits': 1},\n",
       " {'Author_Name': 'quan <zhquan7@gmail.com>',\n",
       "  'First_Commit_Date': '2016-04',\n",
       "  'Total_Number_of_commits': 5},\n",
       " {'Author_Name': 'Israel Herraiz <israel.herraiz@bbvadata.com>',\n",
       "  'First_Commit_Date': '2018-01',\n",
       "  'Total_Number_of_commits': 1},\n",
       " {'Author_Name': 'anveshc05 <anveshc10047@gmail.com>',\n",
       "  'First_Commit_Date': '2018-03',\n",
       "  'Total_Number_of_commits': 1},\n",
       " {'Author_Name': 'Jesus M. Gonzalez-Barahona <jgb@gsyc.es>',\n",
       "  'First_Commit_Date': '2016-01',\n",
       "  'Total_Number_of_commits': 18},\n",
       " {'Author_Name': 'david <david@starlab.io>',\n",
       "  'First_Commit_Date': '2017-12',\n",
       "  'Total_Number_of_commits': 1},\n",
       " {'Author_Name': 'camillem <camillem@users.noreply.github.com>',\n",
       "  'First_Commit_Date': '2016-03',\n",
       "  'Total_Number_of_commits': 2},\n",
       " {'Author_Name': 'Valerio Cosentino <valcos@bitergia.com>',\n",
       "  'First_Commit_Date': '2017-09',\n",
       "  'Total_Number_of_commits': 263},\n",
       " {'Author_Name': 'Stephan Barth <stephan.barth@gmail.com>',\n",
       "  'First_Commit_Date': '2017-01',\n",
       "  'Total_Number_of_commits': 1},\n",
       " {'Author_Name': 'J. Manrique Lopez de la Fuente <jsmanrique@bitergia.com>',\n",
       "  'First_Commit_Date': '2016-03',\n",
       "  'Total_Number_of_commits': 1},\n",
       " {'Author_Name': 'Alvaro del Castillo <acs@bitergia.com>',\n",
       "  'First_Commit_Date': '2015-12',\n",
       "  'Total_Number_of_commits': 47},\n",
       " {'Author_Name': 'valerio <valerio.cosentino@gmail.com>',\n",
       "  'First_Commit_Date': '2017-10',\n",
       "  'Total_Number_of_commits': 2}]"
      ]
     },
     "execution_count": 58,
     "metadata": {},
     "output_type": "execute_result"
    }
   ],
   "source": [
    "for i in response['hits']['hits']:\n",
    "    # print(author['Author_Name'])\n",
    "    for j in author:\n",
    "        if j['Author_Name'] == i['_source']['data']['Author'] :\n",
    "            \n",
    "            \n",
    "    \n",
    "            if j['First_Commit_Date'] == \"NA\":\n",
    "                temp = i['_source']['data']['AuthorDate']\n",
    "                \n",
    "    \n",
    "                #can also do the same the same through this method\n",
    "                # temp = i['_source']['author_date'].split('T')\n",
    "                # print(temp[0])\n",
    "                print(temp)\n",
    "                j['First_Commit_Date'] = datetime.strptime(temp, '%a %b %d %H:%M:%S %Y %z').strftime('%Y-%m')\n",
    "            j['Total_Number_of_commits']=j['Total_Number_of_commits']+1\n",
    "\n",
    "# author\n"
   ]
  },
  {
   "cell_type": "code",
   "execution_count": 54,
   "metadata": {},
   "outputs": [
    {
     "name": "stdout",
     "output_type": "stream",
     "text": [
      "First-Commit-Date :- 2016-01 \n",
      "Last-Commit-Date  :- 2018-03\n"
     ]
    },
    {
     "data": {
      "text/html": [
       "<div>\n",
       "<table border=\"1\" class=\"dataframe\">\n",
       "  <thead>\n",
       "    <tr style=\"text-align: right;\">\n",
       "      <th></th>\n",
       "      <th>Author_Name</th>\n",
       "      <th>First_Commit_Date</th>\n",
       "      <th>Total_Number_of_commits</th>\n",
       "    </tr>\n",
       "  </thead>\n",
       "  <tbody>\n",
       "    <tr>\n",
       "      <th>1</th>\n",
       "      <td>Alvaro del Castillo &lt;acs@bitergia.com&gt;</td>\n",
       "      <td>2016-01</td>\n",
       "      <td>47</td>\n",
       "    </tr>\n",
       "    <tr>\n",
       "      <th>2</th>\n",
       "      <td>Jesus M. Gonzalez-Barahona &lt;jgb@gsyc.es&gt;</td>\n",
       "      <td>2016-01</td>\n",
       "      <td>18</td>\n",
       "    </tr>\n",
       "    <tr>\n",
       "      <th>3</th>\n",
       "      <td>Santiago Dueñas &lt;sduenas@bitergia.com&gt;</td>\n",
       "      <td>2016-02</td>\n",
       "      <td>731</td>\n",
       "    </tr>\n",
       "    <tr>\n",
       "      <th>4</th>\n",
       "      <td>Alberto Martín &lt;alberto.martin@bitergia.com&gt;</td>\n",
       "      <td>2016-02</td>\n",
       "      <td>51</td>\n",
       "    </tr>\n",
       "    <tr>\n",
       "      <th>5</th>\n",
       "      <td>camillem &lt;camillem@users.noreply.github.com&gt;</td>\n",
       "      <td>2016-03</td>\n",
       "      <td>2</td>\n",
       "    </tr>\n",
       "    <tr>\n",
       "      <th>6</th>\n",
       "      <td>J. Manrique Lopez de la Fuente &lt;jsmanrique@bit...</td>\n",
       "      <td>2016-06</td>\n",
       "      <td>1</td>\n",
       "    </tr>\n",
       "    <tr>\n",
       "      <th>7</th>\n",
       "      <td>quan &lt;zhquan7@gmail.com&gt;</td>\n",
       "      <td>2016-07</td>\n",
       "      <td>5</td>\n",
       "    </tr>\n",
       "    <tr>\n",
       "      <th>8</th>\n",
       "      <td>Luis Cañas Díaz &lt;lcanas@bitergia.com&gt;</td>\n",
       "      <td>2016-09</td>\n",
       "      <td>1</td>\n",
       "    </tr>\n",
       "    <tr>\n",
       "      <th>9</th>\n",
       "      <td>Stephan Barth &lt;stephan.barth@gmail.com&gt;</td>\n",
       "      <td>2017-01</td>\n",
       "      <td>1</td>\n",
       "    </tr>\n",
       "    <tr>\n",
       "      <th>10</th>\n",
       "      <td>valerio cosentino &lt;valcos@bitergia.com&gt;</td>\n",
       "      <td>2017-09</td>\n",
       "      <td>6</td>\n",
       "    </tr>\n",
       "    <tr>\n",
       "      <th>11</th>\n",
       "      <td>Valerio Cosentino &lt;valcos@bitergia.com&gt;</td>\n",
       "      <td>2017-09</td>\n",
       "      <td>263</td>\n",
       "    </tr>\n",
       "    <tr>\n",
       "      <th>12</th>\n",
       "      <td>valerio &lt;valerio.cosentino@gmail.com&gt;</td>\n",
       "      <td>2017-10</td>\n",
       "      <td>2</td>\n",
       "    </tr>\n",
       "    <tr>\n",
       "      <th>13</th>\n",
       "      <td>David Pose Fernández &lt;dpose@bitergia.com&gt;</td>\n",
       "      <td>2017-11</td>\n",
       "      <td>1</td>\n",
       "    </tr>\n",
       "    <tr>\n",
       "      <th>14</th>\n",
       "      <td>David Esler &lt;drumandstrum@gmail.com&gt;</td>\n",
       "      <td>2017-11</td>\n",
       "      <td>1</td>\n",
       "    </tr>\n",
       "    <tr>\n",
       "      <th>15</th>\n",
       "      <td>david &lt;david@starlab.io&gt;</td>\n",
       "      <td>2017-12</td>\n",
       "      <td>1</td>\n",
       "    </tr>\n",
       "    <tr>\n",
       "      <th>16</th>\n",
       "      <td>Israel Herraiz &lt;israel.herraiz@bbvadata.com&gt;</td>\n",
       "      <td>2018-01</td>\n",
       "      <td>1</td>\n",
       "    </tr>\n",
       "    <tr>\n",
       "      <th>17</th>\n",
       "      <td>Miguel Ángel Fernández &lt;mafesan@bitergia.com&gt;</td>\n",
       "      <td>2018-02</td>\n",
       "      <td>3</td>\n",
       "    </tr>\n",
       "    <tr>\n",
       "      <th>18</th>\n",
       "      <td>anveshc05 &lt;anveshc10047@gmail.com&gt;</td>\n",
       "      <td>2018-03</td>\n",
       "      <td>1</td>\n",
       "    </tr>\n",
       "  </tbody>\n",
       "</table>\n",
       "</div>"
      ],
      "text/plain": [
       "                                          Author_Name First_Commit_Date  \\\n",
       "1              Alvaro del Castillo <acs@bitergia.com>           2016-01   \n",
       "2            Jesus M. Gonzalez-Barahona <jgb@gsyc.es>           2016-01   \n",
       "3              Santiago Dueñas <sduenas@bitergia.com>           2016-02   \n",
       "4        Alberto Martín <alberto.martin@bitergia.com>           2016-02   \n",
       "5        camillem <camillem@users.noreply.github.com>           2016-03   \n",
       "6   J. Manrique Lopez de la Fuente <jsmanrique@bit...           2016-06   \n",
       "7                            quan <zhquan7@gmail.com>           2016-07   \n",
       "8               Luis Cañas Díaz <lcanas@bitergia.com>           2016-09   \n",
       "9             Stephan Barth <stephan.barth@gmail.com>           2017-01   \n",
       "10            valerio cosentino <valcos@bitergia.com>           2017-09   \n",
       "11            Valerio Cosentino <valcos@bitergia.com>           2017-09   \n",
       "12              valerio <valerio.cosentino@gmail.com>           2017-10   \n",
       "13          David Pose Fernández <dpose@bitergia.com>           2017-11   \n",
       "14               David Esler <drumandstrum@gmail.com>           2017-11   \n",
       "15                           david <david@starlab.io>           2017-12   \n",
       "16       Israel Herraiz <israel.herraiz@bbvadata.com>           2018-01   \n",
       "17      Miguel Ángel Fernández <mafesan@bitergia.com>           2018-02   \n",
       "18                 anveshc05 <anveshc10047@gmail.com>           2018-03   \n",
       "\n",
       "    Total_Number_of_commits  \n",
       "1                        47  \n",
       "2                        18  \n",
       "3                       731  \n",
       "4                        51  \n",
       "5                         2  \n",
       "6                         1  \n",
       "7                         5  \n",
       "8                         1  \n",
       "9                         1  \n",
       "10                        6  \n",
       "11                      263  \n",
       "12                        2  \n",
       "13                        1  \n",
       "14                        1  \n",
       "15                        1  \n",
       "16                        1  \n",
       "17                        3  \n",
       "18                        1  "
      ]
     },
     "execution_count": 54,
     "metadata": {},
     "output_type": "execute_result"
    },
    {
     "data": {
      "image/png": "[encoded data removed]",
      "text/plain": [
       "<matplotlib.figure.Figure at 0x7f21eb92d630>"
      ]
     },
     "metadata": {},
     "output_type": "display_data"
    }
   ],
   "source": [
    "s = pd.DataFrame(author)\n",
    "# s['First_Commit_Date'] = pd.to_datetime(s.First_Commit_Date)\n",
    "s.sort_values(by = 'First_Commit_Date' , inplace=True)\n",
    "s.index = range(1,len(s.index)+1)\n",
    "# pprint(len(s.index))\n",
    "# pprint(s.First_Commit_Date[len(s.index)])\n",
    "temp1 = s.First_Commit_Date[1] #stores the first ever commit made on the repo\n",
    "temp2 = s.First_Commit_Date[len(s.index)] #stores the latest commit made on the repo\n",
    "print(\"First-Commit-Date :- %s \\nLast-Commit-Date  :- %s\" %(temp1,temp2)) # printing the first and last commit date on the repo\n",
    "\n",
    "\n",
    "s.to_csv('author_number_of_commits.csv')\n",
    "\n",
    "#https://stackoverflow.com/questions/35634238/how-to-save-a-pandas-dataframe-table-as-a-png\n",
    "\n",
    "ax = plt.subplot(111, frame_on=False) # no visible frame\n",
    "ax.xaxis.set_visible(False)  # hide the x axis\n",
    "ax.yaxis.set_visible(False)  # hide the y axis\n",
    "\n",
    "table(ax, s,rowLabels=['']*s.shape[0], loc='center')\n",
    "plt.savefig('author_number_of_commits.png' , bbox_inches = 'tight')\n",
    "s"
   ]
  },
  {
   "cell_type": "code",
   "execution_count": null,
   "metadata": {},
   "outputs": [],
   "source": []
  }
 ],
 "metadata": {
  "kernelspec": {
   "display_name": "Python 3",
   "language": "python",
   "name": "python3"
  },
  "language_info": {
   "codemirror_mode": {
    "name": "ipython",
    "version": 3
   },
   "file_extension": ".py",
   "mimetype": "text/x-python",
   "name": "python",
   "nbconvert_exporter": "python",
   "pygments_lexer": "ipython3",
   "version": "3.5.2"
  }
 },
 "nbformat": 4,
 "nbformat_minor": 2
}
