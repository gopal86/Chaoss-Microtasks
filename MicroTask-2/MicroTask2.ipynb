{
 "cells": [
  {
   "cell_type": "markdown",
   "metadata": {},
   "source": [
    "# MicroTask 2"
   ]
  },
  {
   "cell_type": "markdown",
   "metadata": {},
   "source": [
    "###  Produce a chart showing the distribution of time-to-close (using the corresponding field in the GrimoireLab enriched index for GitHub issues) for issues already closed, and opened during the last six months."
   ]
  },
  {
   "cell_type": "code",
   "execution_count": 1,
   "metadata": {},
   "outputs": [],
   "source": [
    "#Importing Libraries \n",
    "\n",
    "from datetime import datetime\n",
    "import elasticsearch\n",
    "import elasticsearch_dsl\n",
    "from pprint import pprint\n",
    "import pandas as pd\n",
    "import numpy as np\n",
    "import subprocess\n",
    "import matplotlib.pyplot as plt\n",
    "from pandas.tools.plotting import table\n"
   ]
  },
  {
   "cell_type": "code",
   "execution_count": 2,
   "metadata": {},
   "outputs": [],
   "source": [
    "enrich_index_name = 'github'\n",
    "raw_index_name = 'github_raw'\n",
    "\n",
    "es = elasticsearch.Elasticsearch('http://localhost:9200/',  verify_certs=False)\n",
    "\n",
    "github_token = \"6ee78bdbfde11ffd95c0c1b22ed5bc1a6f1fd52a\"\n"
   ]
  },
  {
   "cell_type": "code",
   "execution_count": 3,
   "metadata": {},
   "outputs": [],
   "source": [
    "# if(es.indices.exists(enrich_index_name)):\n",
    "#     es.indices.delete(enrich_index_name)\n",
    "\n",
    "# if(es.indices.exists(raw_index_name)):\n",
    "#     es.indices.delete(raw_index_name)\n"
   ]
  },
  {
   "cell_type": "code",
   "execution_count": 17,
   "metadata": {},
   "outputs": [
    {
     "data": {
      "text/plain": [
       "CompletedProcess(args=['p2o.py', '--enrich', '--index', 'github_raw', '--index-enrich', 'github', '-e', 'http://localhost:9200/', '--no_inc', '--debug', 'github', 'grimoirelab', 'perceval', '-t', '6ee78bdbfde11ffd95c0c1b22ed5bc1a6f1fd52a', '--sleep-for-rate'], returncode=1)"
      ]
     },
     "execution_count": 17,
     "metadata": {},
     "output_type": "execute_result"
    }
   ],
   "source": [
    "subprocess.run(['p2o.py', '--enrich', '--index', raw_index_name,\n",
    "      '--index-enrich', enrich_index_name, '-e', 'http://localhost:9200/',\n",
    "      '--no_inc', '--debug', 'github', 'grimoirelab' , 'perceval',\n",
    "      '-t', github_token, '--sleep-for-rate'])\n"
   ]
  },
  {
   "cell_type": "code",
   "execution_count": 18,
   "metadata": {},
   "outputs": [
    {
     "name": "stdout",
     "output_type": "stream",
     "text": [
      "Total Number of commits :- 362\n"
     ]
    }
   ],
   "source": [
    "response = es.search(index=enrich_index_name)\n",
    "Number_of_commits = response['hits']['total']\n",
    "print(\"Total Number of commits :- %s\" %(Number_of_commits))\n",
    "response = es.search( index=enrich_index_name , body={\"size\":Number_of_commits} )\n",
    "\n",
    "# for i in response['hits']['hits']:\n",
    "#     pprint(i['_source'])\n"
   ]
  },
  {
   "cell_type": "code",
   "execution_count": 19,
   "metadata": {},
   "outputs": [],
   "source": [
    " request = elasticsearch_dsl.Search(using=es, index=enrich_index_name)\n",
    "request = request.source(['created_at', 'closed_at', 'time_open_days' , 'time_to_close_days' , 'item_type' , 'id_in_repo'])\n",
    "request = request.filter(\"terms\", item_type = ['issue'])\n",
    "request = request.filter('range', created_at ={'gte': 'now-6M'})\n",
    "request = request.sort({'created_at':{'order':'asc'}})\n",
    "request = request[0:10000]\n",
    "result = request.execute()\n"
   ]
  },
  {
   "cell_type": "code",
   "execution_count": 20,
   "metadata": {},
   "outputs": [],
   "source": [
    "# pprint(result.to_dict())\n",
    "result = result.to_dict()\n",
    "data = []\n",
    "\n",
    "for i in result['hits']['hits']:\n",
    "    data.append(i['_source'])\n",
    "\n",
    "# pprint(data)\n"
   ]
  },
  {
   "cell_type": "code",
   "execution_count": 26,
   "metadata": {},
   "outputs": [
    {
     "data": {
      "image/png": "[encoded data removed]",
      "text/plain": [
       "<matplotlib.figure.Figure at 0x7fc6c2b1acf8>"
      ]
     },
     "metadata": {},
     "output_type": "display_data"
    }
   ],
   "source": [
    "df = pd.DataFrame(data)\n",
    "df = df.fillna(0)\n",
    "df.index = range(1,len(df.index)+1)\n",
    "ax = df.plot(x=df['id_in_repo'], kind='bar', figsize=(20, 15))\n",
    "ax.set_title('Issues for the last 6 months')\n",
    "ax.set_xlabel('Issue number')\n",
    "ax.set_ylabel('Days open')\n",
    "plt.savefig('graph.png', bbox_inches='tight')\n",
    "plt.show()\n"
   ]
  },
  {
   "cell_type": "code",
   "execution_count": 30,
   "metadata": {},
   "outputs": [
    {
     "data": {
      "text/html": [
       "<div>\n",
       "<table border=\"1\" class=\"dataframe\">\n",
       "  <thead>\n",
       "    <tr style=\"text-align: right;\">\n",
       "      <th></th>\n",
       "      <th>closed_at</th>\n",
       "      <th>created_at</th>\n",
       "      <th>id_in_repo</th>\n",
       "      <th>item_type</th>\n",
       "      <th>time_open_days</th>\n",
       "      <th>time_to_close_days</th>\n",
       "    </tr>\n",
       "  </thead>\n",
       "  <tbody>\n",
       "    <tr>\n",
       "      <th>1</th>\n",
       "      <td>2017-11-07T12:07:50Z</td>\n",
       "      <td>2017-09-25T21:02:07Z</td>\n",
       "      <td>165</td>\n",
       "      <td>issue</td>\n",
       "      <td>42.63</td>\n",
       "      <td>42.63</td>\n",
       "    </tr>\n",
       "    <tr>\n",
       "      <th>2</th>\n",
       "      <td>2017-09-29T17:21:43Z</td>\n",
       "      <td>2017-09-26T15:04:45Z</td>\n",
       "      <td>167</td>\n",
       "      <td>issue</td>\n",
       "      <td>3.10</td>\n",
       "      <td>3.10</td>\n",
       "    </tr>\n",
       "    <tr>\n",
       "      <th>3</th>\n",
       "      <td>0</td>\n",
       "      <td>2017-09-27T11:44:00Z</td>\n",
       "      <td>168</td>\n",
       "      <td>issue</td>\n",
       "      <td>179.17</td>\n",
       "      <td>0.00</td>\n",
       "    </tr>\n",
       "    <tr>\n",
       "      <th>4</th>\n",
       "      <td>2017-10-10T14:27:30Z</td>\n",
       "      <td>2017-10-09T16:20:16Z</td>\n",
       "      <td>174</td>\n",
       "      <td>issue</td>\n",
       "      <td>0.92</td>\n",
       "      <td>0.92</td>\n",
       "    </tr>\n",
       "    <tr>\n",
       "      <th>5</th>\n",
       "      <td>2017-10-24T12:30:36Z</td>\n",
       "      <td>2017-10-09T18:22:00Z</td>\n",
       "      <td>175</td>\n",
       "      <td>issue</td>\n",
       "      <td>14.76</td>\n",
       "      <td>14.76</td>\n",
       "    </tr>\n",
       "    <tr>\n",
       "      <th>6</th>\n",
       "      <td>2017-10-16T19:13:11Z</td>\n",
       "      <td>2017-10-11T12:24:04Z</td>\n",
       "      <td>178</td>\n",
       "      <td>issue</td>\n",
       "      <td>5.28</td>\n",
       "      <td>5.28</td>\n",
       "    </tr>\n",
       "    <tr>\n",
       "      <th>7</th>\n",
       "      <td>2017-10-30T10:15:59Z</td>\n",
       "      <td>2017-10-16T10:48:08Z</td>\n",
       "      <td>180</td>\n",
       "      <td>issue</td>\n",
       "      <td>13.98</td>\n",
       "      <td>13.98</td>\n",
       "    </tr>\n",
       "    <tr>\n",
       "      <th>8</th>\n",
       "      <td>2017-10-25T17:41:25Z</td>\n",
       "      <td>2017-10-16T13:33:20Z</td>\n",
       "      <td>181</td>\n",
       "      <td>issue</td>\n",
       "      <td>9.17</td>\n",
       "      <td>9.17</td>\n",
       "    </tr>\n",
       "    <tr>\n",
       "      <th>9</th>\n",
       "      <td>2017-11-08T18:46:02Z</td>\n",
       "      <td>2017-10-16T17:34:48Z</td>\n",
       "      <td>183</td>\n",
       "      <td>issue</td>\n",
       "      <td>23.05</td>\n",
       "      <td>23.05</td>\n",
       "    </tr>\n",
       "    <tr>\n",
       "      <th>10</th>\n",
       "      <td>2017-10-25T08:09:05Z</td>\n",
       "      <td>2017-10-24T19:27:29Z</td>\n",
       "      <td>187</td>\n",
       "      <td>issue</td>\n",
       "      <td>0.53</td>\n",
       "      <td>0.53</td>\n",
       "    </tr>\n",
       "  </tbody>\n",
       "</table>\n",
       "</div>"
      ],
      "text/plain": [
       "               closed_at            created_at id_in_repo item_type  \\\n",
       "1   2017-11-07T12:07:50Z  2017-09-25T21:02:07Z        165     issue   \n",
       "2   2017-09-29T17:21:43Z  2017-09-26T15:04:45Z        167     issue   \n",
       "3                      0  2017-09-27T11:44:00Z        168     issue   \n",
       "4   2017-10-10T14:27:30Z  2017-10-09T16:20:16Z        174     issue   \n",
       "5   2017-10-24T12:30:36Z  2017-10-09T18:22:00Z        175     issue   \n",
       "6   2017-10-16T19:13:11Z  2017-10-11T12:24:04Z        178     issue   \n",
       "7   2017-10-30T10:15:59Z  2017-10-16T10:48:08Z        180     issue   \n",
       "8   2017-10-25T17:41:25Z  2017-10-16T13:33:20Z        181     issue   \n",
       "9   2017-11-08T18:46:02Z  2017-10-16T17:34:48Z        183     issue   \n",
       "10  2017-10-25T08:09:05Z  2017-10-24T19:27:29Z        187     issue   \n",
       "\n",
       "    time_open_days  time_to_close_days  \n",
       "1            42.63               42.63  \n",
       "2             3.10                3.10  \n",
       "3           179.17                0.00  \n",
       "4             0.92                0.92  \n",
       "5            14.76               14.76  \n",
       "6             5.28                5.28  \n",
       "7            13.98               13.98  \n",
       "8             9.17                9.17  \n",
       "9            23.05               23.05  \n",
       "10            0.53                0.53  "
      ]
     },
     "execution_count": 30,
     "metadata": {},
     "output_type": "execute_result"
    },
    {
     "data": {
      "image/png": "[encoded data removed]",
      "text/plain": [
       "<matplotlib.figure.Figure at 0x7fc6c27920b8>"
      ]
     },
     "metadata": {},
     "output_type": "display_data"
    }
   ],
   "source": [
    "df.to_csv('Issues.csv')\n",
    "\n",
    "ax = plt.subplot(111, frame_on=False) # no visible frame\n",
    "ax.xaxis.set_visible(False)  # hide the x axis\n",
    "ax.yaxis.set_visible(False)  # hide the y axis\n",
    "\n",
    "\n",
    "table(ax,df.head(10) , loc='center' )\n",
    "plt.savefig('Issues.png' , bbox_inches = 'tight' )\n",
    "df.head(10)"
   ]
  },
  {
   "cell_type": "code",
   "execution_count": null,
   "metadata": {},
   "outputs": [],
   "source": []
  }
 ],
 "metadata": {
  "kernelspec": {
   "display_name": "Python 3",
   "language": "python",
   "name": "python3"
  },
  "language_info": {
   "codemirror_mode": {
    "name": "ipython",
    "version": 3
   },
   "file_extension": ".py",
   "mimetype": "text/x-python",
   "name": "python",
   "nbconvert_exporter": "python",
   "pygments_lexer": "ipython3",
   "version": "3.5.2"
  }
 },
 "nbformat": 4,
 "nbformat_minor": 2
}
